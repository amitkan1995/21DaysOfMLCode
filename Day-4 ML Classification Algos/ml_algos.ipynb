{
 "cells": [
  {
   "cell_type": "markdown",
   "metadata": {},
   "source": [
    "# Hands-on of Basic Machine Learning Classification Algorithms\n",
    "\n",
    "## Algo that I will try hands on:\n",
    "- Classification using Perceptron Model\n",
    "- Classification using Logisitc Regression\n",
    "- Classification using SVM\n",
    "- Classification using simple decision tree\n",
    "- Classification using Random Forests\n",
    "- Classification using KNN\n",
    "\n",
    "with their respective accuracy"
   ]
  },
  {
   "cell_type": "code",
   "execution_count": null,
   "metadata": {},
   "outputs": [],
   "source": [
    "import pandas as pd\n",
    "import numpy as no\n",
    "import matplotlib.pyplot as plt\n",
    "import seaborn as sns\n",
    "\n",
    "%matplotlib inline"
   ]
  },
  {
   "cell_type": "markdown",
   "metadata": {},
   "source": [
    "### Loading Iris Dataset"
   ]
  },
  {
   "cell_type": "code",
   "execution_count": 22,
   "metadata": {},
   "outputs": [
    {
     "data": {
      "text/html": [
       "<div>\n",
       "<style scoped>\n",
       "    .dataframe tbody tr th:only-of-type {\n",
       "        vertical-align: middle;\n",
       "    }\n",
       "\n",
       "    .dataframe tbody tr th {\n",
       "        vertical-align: top;\n",
       "    }\n",
       "\n",
       "    .dataframe thead th {\n",
       "        text-align: right;\n",
       "    }\n",
       "</style>\n",
       "<table border=\"1\" class=\"dataframe\">\n",
       "  <thead>\n",
       "    <tr style=\"text-align: right;\">\n",
       "      <th></th>\n",
       "      <th>sepal length (cm)</th>\n",
       "      <th>sepal width (cm)</th>\n",
       "      <th>petal length (cm)</th>\n",
       "      <th>petal width (cm)</th>\n",
       "      <th>target</th>\n",
       "    </tr>\n",
       "  </thead>\n",
       "  <tbody>\n",
       "    <tr>\n",
       "      <th>0</th>\n",
       "      <td>5.1</td>\n",
       "      <td>3.5</td>\n",
       "      <td>1.4</td>\n",
       "      <td>0.2</td>\n",
       "      <td>0</td>\n",
       "    </tr>\n",
       "    <tr>\n",
       "      <th>1</th>\n",
       "      <td>4.9</td>\n",
       "      <td>3.0</td>\n",
       "      <td>1.4</td>\n",
       "      <td>0.2</td>\n",
       "      <td>0</td>\n",
       "    </tr>\n",
       "    <tr>\n",
       "      <th>2</th>\n",
       "      <td>4.7</td>\n",
       "      <td>3.2</td>\n",
       "      <td>1.3</td>\n",
       "      <td>0.2</td>\n",
       "      <td>0</td>\n",
       "    </tr>\n",
       "    <tr>\n",
       "      <th>3</th>\n",
       "      <td>4.6</td>\n",
       "      <td>3.1</td>\n",
       "      <td>1.5</td>\n",
       "      <td>0.2</td>\n",
       "      <td>0</td>\n",
       "    </tr>\n",
       "    <tr>\n",
       "      <th>4</th>\n",
       "      <td>5.0</td>\n",
       "      <td>3.6</td>\n",
       "      <td>1.4</td>\n",
       "      <td>0.2</td>\n",
       "      <td>0</td>\n",
       "    </tr>\n",
       "  </tbody>\n",
       "</table>\n",
       "</div>"
      ],
      "text/plain": [
       "   sepal length (cm)  sepal width (cm)  petal length (cm)  petal width (cm)  \\\n",
       "0                5.1               3.5                1.4               0.2   \n",
       "1                4.9               3.0                1.4               0.2   \n",
       "2                4.7               3.2                1.3               0.2   \n",
       "3                4.6               3.1                1.5               0.2   \n",
       "4                5.0               3.6                1.4               0.2   \n",
       "\n",
       "   target  \n",
       "0       0  \n",
       "1       0  \n",
       "2       0  \n",
       "3       0  \n",
       "4       0  "
      ]
     },
     "execution_count": 22,
     "metadata": {},
     "output_type": "execute_result"
    }
   ],
   "source": [
    "from sklearn import datasets\n",
    "iris_data = datasets.load_iris()\n",
    "\n",
    "# Converting dataset to pandas dataframe\n",
    "iris_df = pd.DataFrame(iris_data.data, columns=iris_data.feature_names)\n",
    "iris_df['target'] = iris_data['target']\n",
    "iris_df.head()"
   ]
  },
  {
   "cell_type": "markdown",
   "metadata": {},
   "source": [
    "### Visualizing data\n"
   ]
  },
  {
   "cell_type": "code",
   "execution_count": 25,
   "metadata": {
    "scrolled": true
   },
   "outputs": [
    {
     "data": {
      "text/plain": [
       "<matplotlib.axes._subplots.AxesSubplot at 0x11ce6d7a8d0>"
      ]
     },
     "execution_count": 25,
     "metadata": {},
     "output_type": "execute_result"
    },
    {
     "data": {
      "image/png": "[encoded data removed]",
      "text/plain": [
       "<Figure size 936x432 with 1 Axes>"
      ]
     },
     "metadata": {
      "needs_background": "light"
     },
     "output_type": "display_data"
    }
   ],
   "source": [
    "plt.figure(figsize=(13,6))\n",
    "sns.scatterplot(iris_df['petal length (cm)'],iris_df['petal width (cm)'],hue=iris_df['target'])"
   ]
  },
  {
   "cell_type": "markdown",
   "metadata": {},
   "source": [
    "### Using Percpetron Model and Feature scaling"
   ]
  },
  {
   "cell_type": "code",
   "execution_count": 35,
   "metadata": {},
   "outputs": [
    {
     "name": "stdout",
     "output_type": "stream",
     "text": [
      "X_train without standardising features\n",
      "     sepal length (cm)  sepal width (cm)  petal length (cm)  petal width (cm)\n",
      "61                 5.9               3.0                4.2               1.5\n",
      "92                 5.8               2.6                4.0               1.2\n",
      "112                6.8               3.0                5.5               2.1\n",
      "2                  4.7               3.2                1.3               0.2\n",
      "141                6.9               3.1                5.1               2.3\n",
      "43                 5.0               3.5                1.6               0.6\n",
      "10                 5.4               3.7                1.5               0.2\n",
      "60                 5.0               2.0                3.5               1.0\n",
      "116                6.5               3.0                5.5               1.8\n",
      "144                6.7               3.3                5.7               2.5\n",
      "119                6.0               2.2                5.0               1.5\n",
      "108                6.7               2.5                5.8               1.8\n",
      "69                 5.6               2.5                3.9               1.1\n",
      "135                7.7               3.0                6.1               2.3\n",
      "56                 6.3               3.3                4.7               1.6\n",
      "80                 5.5               2.4                3.8               1.1\n",
      "123                6.3               2.7                4.9               1.8\n",
      "133                6.3               2.8                5.1               1.5\n",
      "106                4.9               2.5                4.5               1.7\n",
      "146                6.3               2.5                5.0               1.9\n",
      "50                 7.0               3.2                4.7               1.4\n",
      "147                6.5               3.0                5.2               2.0\n",
      "85                 6.0               3.4                4.5               1.6\n",
      "30                 4.8               3.1                1.6               0.2\n",
      "101                5.8               2.7                5.1               1.9\n",
      "94                 5.6               2.7                4.2               1.3\n",
      "64                 5.6               2.9                3.6               1.3\n",
      "89                 5.5               2.5                4.0               1.3\n",
      "91                 6.1               3.0                4.6               1.4\n",
      "125                7.2               3.2                6.0               1.8\n",
      "..                 ...               ...                ...               ...\n",
      "14                 5.8               4.0                1.2               0.2\n",
      "122                7.7               2.8                6.7               2.0\n",
      "19                 5.1               3.8                1.5               0.3\n",
      "29                 4.7               3.2                1.6               0.2\n",
      "130                7.4               2.8                6.1               1.9\n",
      "49                 5.0               3.3                1.4               0.2\n",
      "136                6.3               3.4                5.6               2.4\n",
      "99                 5.7               2.8                4.1               1.3\n",
      "82                 5.8               2.7                3.9               1.2\n",
      "79                 5.7               2.6                3.5               1.0\n",
      "115                6.4               3.2                5.3               2.3\n",
      "145                6.7               3.0                5.2               2.3\n",
      "72                 6.3               2.5                4.9               1.5\n",
      "77                 6.7               3.0                5.0               1.7\n",
      "25                 5.0               3.0                1.6               0.2\n",
      "81                 5.5               2.4                3.7               1.0\n",
      "140                6.7               3.1                5.6               2.4\n",
      "142                5.8               2.7                5.1               1.9\n",
      "39                 5.1               3.4                1.5               0.2\n",
      "58                 6.6               2.9                4.6               1.3\n",
      "88                 5.6               3.0                4.1               1.3\n",
      "70                 5.9               3.2                4.8               1.8\n",
      "87                 6.3               2.3                4.4               1.3\n",
      "36                 5.5               3.5                1.3               0.2\n",
      "21                 5.1               3.7                1.5               0.4\n",
      "9                  4.9               3.1                1.5               0.1\n",
      "103                6.3               2.9                5.6               1.8\n",
      "67                 5.8               2.7                4.1               1.0\n",
      "117                7.7               3.8                6.7               2.2\n",
      "47                 4.6               3.2                1.4               0.2\n",
      "\n",
      "[112 rows x 4 columns]\n",
      "X_train with standardising features\n",
      "[[ 1.54399532e-02 -1.19254753e-01  2.25126850e-01  3.55797625e-01]\n",
      " [-9.98450310e-02 -1.04039491e+00  1.13559562e-01 -2.98410911e-02]\n",
      " [ 1.05300481e+00 -1.19254753e-01  9.50314227e-01  1.12707506e+00]\n",
      " [-1.36797986e+00  3.41315328e-01 -1.39259884e+00 -1.31530348e+00]\n",
      " [ 1.16828980e+00  1.11030287e-01  7.27179649e-01  1.38416753e+00]\n",
      " [-1.02212490e+00  1.03217045e+00 -1.22524790e+00 -8.01118523e-01]\n",
      " [-5.60984968e-01  1.49274053e+00 -1.28103155e+00 -1.31530348e+00]\n",
      " [-1.02212490e+00 -2.42210516e+00 -1.65358660e-01 -2.86933568e-01]\n",
      " [ 7.07149859e-01 -1.19254753e-01  9.50314227e-01  7.41436341e-01]\n",
      " [ 9.37719827e-01  5.71600368e-01  1.06188152e+00  1.64126001e+00]\n",
      " [ 1.30724937e-01 -1.96153508e+00  6.71396005e-01  3.55797625e-01]\n",
      " [ 9.37719827e-01 -1.27067995e+00  1.11766516e+00  7.41436341e-01]\n",
      " [-3.30414999e-01 -1.27067995e+00  5.77759173e-02 -1.58387330e-01]\n",
      " [ 2.09056967e+00 -1.19254753e-01  1.28501609e+00  1.38416753e+00]\n",
      " [ 4.76579890e-01  5.71600368e-01  5.04045072e-01  4.84343863e-01]\n",
      " [-4.45699984e-01 -1.50096499e+00  1.99227301e-03 -1.58387330e-01]\n",
      " [ 4.76579890e-01 -8.10109874e-01  6.15612361e-01  7.41436341e-01]\n",
      " [ 4.76579890e-01 -5.79824834e-01  7.27179649e-01  3.55797625e-01]\n",
      " [-1.13740989e+00 -1.27067995e+00  3.92477783e-01  6.12890102e-01]\n",
      " [ 4.76579890e-01 -1.27067995e+00  6.71396005e-01  8.69982579e-01]\n",
      " [ 1.28357478e+00  3.41315328e-01  5.04045072e-01  2.27251386e-01]\n",
      " [ 7.07149859e-01 -1.19254753e-01  7.82963294e-01  9.98528818e-01]\n",
      " [ 1.30724937e-01  8.01885408e-01  3.92477783e-01  4.84343863e-01]\n",
      " [-1.25269487e+00  1.11030287e-01 -1.22524790e+00 -1.31530348e+00]\n",
      " [-9.98450310e-02 -8.10109874e-01  7.27179649e-01  8.69982579e-01]\n",
      " [-3.30414999e-01 -8.10109874e-01  2.25126850e-01  9.87051475e-02]\n",
      " [-3.30414999e-01 -3.49539793e-01 -1.09575016e-01  9.87051475e-02]\n",
      " [-4.45699984e-01 -1.27067995e+00  1.13559562e-01  9.87051475e-02]\n",
      " [ 2.46009922e-01 -1.19254753e-01  4.48261428e-01  2.27251386e-01]\n",
      " [ 1.51414475e+00  3.41315328e-01  1.22923245e+00  7.41436341e-01]\n",
      " [-6.76269952e-01  1.49274053e+00 -1.28103155e+00 -1.31530348e+00]\n",
      " [-1.82911979e+00 -1.19254753e-01 -1.50416612e+00 -1.44384972e+00]\n",
      " [ 5.91864874e-01 -8.10109874e-01  8.38746938e-01  8.69982579e-01]\n",
      " [-2.15130015e-01 -1.19254753e-01  2.25126850e-01 -2.98410911e-02]\n",
      " [-5.60984968e-01  8.01885408e-01 -1.16946426e+00 -1.31530348e+00]\n",
      " [-2.15130015e-01  3.10473581e+00 -1.28103155e+00 -1.05821100e+00]\n",
      " [ 1.16828980e+00  1.11030287e-01  6.15612361e-01  3.55797625e-01]\n",
      " [-1.48326484e+00  1.11030287e-01 -1.28103155e+00 -1.31530348e+00]\n",
      " [ 1.54399532e-02 -1.19254753e-01  7.27179649e-01  7.41436341e-01]\n",
      " [-9.06839920e-01 -1.27067995e+00 -4.44276882e-01 -1.58387330e-01]\n",
      " [-1.48326484e+00  8.01885408e-01 -1.33681519e+00 -1.18675724e+00]\n",
      " [ 3.61294906e-01 -1.96153508e+00  3.92477783e-01  3.55797625e-01]\n",
      " [ 1.51414475e+00  1.26245549e+00  1.28501609e+00  1.64126001e+00]\n",
      " [-2.15130015e-01 -3.49539793e-01  2.25126850e-01  9.87051475e-02]\n",
      " [-1.25269487e+00 -1.19254753e-01 -1.33681519e+00 -1.44384972e+00]\n",
      " [ 1.39885976e+00 -1.19254753e-01  1.17344880e+00  1.12707506e+00]\n",
      " [ 1.16828980e+00  3.41315328e-01  1.06188152e+00  1.38416753e+00]\n",
      " [ 7.07149859e-01 -1.19254753e-01  1.11766516e+00  1.25562129e+00]\n",
      " [ 5.91864874e-01 -5.79824834e-01  1.00609787e+00  1.12707506e+00]\n",
      " [-9.06839920e-01  1.72302557e+00 -1.22524790e+00 -1.31530348e+00]\n",
      " [-1.25269487e+00  8.01885408e-01 -1.22524790e+00 -1.31530348e+00]\n",
      " [ 7.07149859e-01  3.41315328e-01  7.27179649e-01  9.98528818e-01]\n",
      " [ 9.37719827e-01  5.71600368e-01  1.06188152e+00  1.12707506e+00]\n",
      " [-1.59854983e+00 -1.73125004e+00 -1.39259884e+00 -1.18675724e+00]\n",
      " [ 3.61294906e-01  8.01885408e-01  8.94530582e-01  1.38416753e+00]\n",
      " [-1.13740989e+00 -1.19254753e-01 -1.33681519e+00 -1.31530348e+00]\n",
      " [-2.15130015e-01 -1.27067995e+00  6.71396005e-01  9.98528818e-01]\n",
      " [ 1.16828980e+00  1.11030287e-01  8.94530582e-01  1.12707506e+00]\n",
      " [-1.71383481e+00  3.41315328e-01 -1.39259884e+00 -1.31530348e+00]\n",
      " [-1.02212490e+00  1.26245549e+00 -1.33681519e+00 -1.31530348e+00]\n",
      " [ 1.51414475e+00 -1.19254753e-01  1.11766516e+00  4.84343863e-01]\n",
      " [-9.06839920e-01  1.03217045e+00 -1.33681519e+00 -1.18675724e+00]\n",
      " [-1.71383481e+00 -1.19254753e-01 -1.39259884e+00 -1.31530348e+00]\n",
      " [-5.60984968e-01  1.95331061e+00 -1.16946426e+00 -1.05821100e+00]\n",
      " [-4.45699984e-01 -1.73125004e+00  1.13559562e-01  9.87051475e-02]\n",
      " [ 1.05300481e+00  3.41315328e-01  1.17344880e+00  1.38416753e+00]\n",
      " [ 1.97528468e+00 -1.19254753e-01  1.56393431e+00  1.12707506e+00]\n",
      " [-9.06839920e-01  1.03217045e+00 -1.33681519e+00 -1.31530348e+00]\n",
      " [-1.13740989e+00  1.11030287e-01 -1.28103155e+00 -1.31530348e+00]\n",
      " [-7.91554936e-01  8.01885408e-01 -1.33681519e+00 -1.31530348e+00]\n",
      " [-2.15130015e-01 -5.79824834e-01  3.92477783e-01  9.87051475e-02]\n",
      " [ 8.22434843e-01 -1.19254753e-01  3.36694139e-01  2.27251386e-01]\n",
      " [-1.02212490e+00  3.41315328e-01 -1.44838248e+00 -1.31530348e+00]\n",
      " [-9.06839920e-01  5.71600368e-01 -1.16946426e+00 -9.29664761e-01]\n",
      " [ 5.91864874e-01 -3.49539793e-01  2.80910495e-01  9.87051475e-02]\n",
      " [-5.60984968e-01  8.01885408e-01 -1.28103155e+00 -1.05821100e+00]\n",
      " [ 2.09056967e+00 -1.04039491e+00  1.73128525e+00  1.38416753e+00]\n",
      " [-1.13740989e+00 -1.50096499e+00 -2.76925949e-01 -2.86933568e-01]\n",
      " [ 2.32113964e+00  1.72302557e+00  1.45236703e+00  9.98528818e-01]\n",
      " [ 9.37719827e-01  1.11030287e-01  3.36694139e-01  2.27251386e-01]\n",
      " [-7.91554936e-01  2.41388069e+00 -1.28103155e+00 -1.44384972e+00]\n",
      " [ 1.30724937e-01 -1.19254753e-01  5.59828716e-01  7.41436341e-01]\n",
      " [-9.98450310e-02  2.18359565e+00 -1.44838248e+00 -1.31530348e+00]\n",
      " [ 2.09056967e+00 -5.79824834e-01  1.61971796e+00  9.98528818e-01]\n",
      " [-9.06839920e-01  1.72302557e+00 -1.28103155e+00 -1.18675724e+00]\n",
      " [-1.36797986e+00  3.41315328e-01 -1.22524790e+00 -1.31530348e+00]\n",
      " [ 1.74471472e+00 -5.79824834e-01  1.28501609e+00  8.69982579e-01]\n",
      " [-1.02212490e+00  5.71600368e-01 -1.33681519e+00 -1.31530348e+00]\n",
      " [ 4.76579890e-01  8.01885408e-01  1.00609787e+00  1.51271377e+00]\n",
      " [-2.15130015e-01 -5.79824834e-01  1.69343206e-01  9.87051475e-02]\n",
      " [-9.98450310e-02 -8.10109874e-01  5.77759173e-02 -2.98410911e-02]\n",
      " [-2.15130015e-01 -1.04039491e+00 -1.65358660e-01 -2.86933568e-01]\n",
      " [ 5.91864874e-01  3.41315328e-01  8.38746938e-01  1.38416753e+00]\n",
      " [ 9.37719827e-01 -1.19254753e-01  7.82963294e-01  1.38416753e+00]\n",
      " [ 4.76579890e-01 -1.27067995e+00  6.15612361e-01  3.55797625e-01]\n",
      " [ 9.37719827e-01 -1.19254753e-01  6.71396005e-01  6.12890102e-01]\n",
      " [-1.02212490e+00 -1.19254753e-01 -1.22524790e+00 -1.31530348e+00]\n",
      " [-4.45699984e-01 -1.50096499e+00 -5.37913713e-02 -2.86933568e-01]\n",
      " [ 9.37719827e-01  1.11030287e-01  1.00609787e+00  1.51271377e+00]\n",
      " [-9.98450310e-02 -8.10109874e-01  7.27179649e-01  8.69982579e-01]\n",
      " [-9.06839920e-01  8.01885408e-01 -1.28103155e+00 -1.31530348e+00]\n",
      " [ 8.22434843e-01 -3.49539793e-01  4.48261428e-01  9.87051475e-02]\n",
      " [-3.30414999e-01 -1.19254753e-01  1.69343206e-01  9.87051475e-02]\n",
      " [ 1.54399532e-02  3.41315328e-01  5.59828716e-01  7.41436341e-01]\n",
      " [ 4.76579890e-01 -1.73125004e+00  3.36694139e-01  9.87051475e-02]\n",
      " [-4.45699984e-01  1.03217045e+00 -1.39259884e+00 -1.31530348e+00]\n",
      " [-9.06839920e-01  1.49274053e+00 -1.28103155e+00 -1.05821100e+00]\n",
      " [-1.13740989e+00  1.11030287e-01 -1.28103155e+00 -1.44384972e+00]\n",
      " [ 4.76579890e-01 -3.49539793e-01  1.00609787e+00  7.41436341e-01]\n",
      " [-9.98450310e-02 -8.10109874e-01  1.69343206e-01 -2.86933568e-01]\n",
      " [ 2.09056967e+00  1.72302557e+00  1.61971796e+00  1.25562129e+00]\n",
      " [-1.48326484e+00  3.41315328e-01 -1.33681519e+00 -1.31530348e+00]]\n"
     ]
    }
   ],
   "source": [
    "# Spliting Dataset\n",
    "\n",
    "from sklearn.model_selection import train_test_split\n",
    "features = [x for x in iris_df.columns]\n",
    "features.remove('target')\n",
    "\n",
    "X_train, X_test, Y_train, Y_test = train_test_split(iris_df[features],iris_df['target'], test_size=0.25, random_state=0)\n",
    "\n",
    "# Features Scaling\n",
    "\n",
    "from sklearn.preprocessing import StandardScaler\n",
    "\n",
    "sc = StandardScaler()\n",
    "sc.fit(X_train)\n",
    "X_train_standard = sc.transform(X_train)\n",
    "X_test_standard = sc.transform(X_test)\n",
    "\n",
    "print(\"X_train without standardising features\")\n",
    "print(X_train)\n",
    "\n",
    "print(\"X_train with standardising features\")\n",
    "print(X_train_standard)"
   ]
  },
  {
   "cell_type": "markdown",
   "metadata": {},
   "source": [
    "### Appying Perceptron Model\n"
   ]
  },
  {
   "cell_type": "code",
   "execution_count": 38,
   "metadata": {
    "scrolled": true
   },
   "outputs": [
    {
     "name": "stderr",
     "output_type": "stream",
     "text": [
      "C:\\Users\\kande\\Anaconda3\\lib\\site-packages\\sklearn\\linear_model\\stochastic_gradient.py:152: DeprecationWarning: n_iter parameter is deprecated in 0.19 and will be removed in 0.21. Use max_iter and tol instead.\n",
      "  DeprecationWarning)\n"
     ]
    },
    {
     "data": {
      "text/plain": [
       "Perceptron(alpha=0.0001, class_weight=None, early_stopping=False, eta0=0.1,\n",
       "      fit_intercept=True, max_iter=None, n_iter=40, n_iter_no_change=5,\n",
       "      n_jobs=None, penalty=None, random_state=0, shuffle=True, tol=None,\n",
       "      validation_fraction=0.1, verbose=0, warm_start=False)"
      ]
     },
     "execution_count": 38,
     "metadata": {},
     "output_type": "execute_result"
    }
   ],
   "source": [
    "from sklearn.linear_model import Perceptron\n",
    "\n",
    "ppn = Perceptron(n_iter = 40, eta0 = 0.1, random_state = 0)\n",
    "ppn.fit(X_train_standard, Y_train)"
   ]
  },
  {
   "cell_type": "code",
   "execution_count": 39,
   "metadata": {},
   "outputs": [
    {
     "name": "stdout",
     "output_type": "stream",
     "text": [
      "Accuracy: 0.87\n"
     ]
    }
   ],
   "source": [
    "## Checking Accuracy on unseen data\n",
    "\n",
    "Y_pred_percep = ppn.predict(X_test_standard)\n",
    "\n",
    "from sklearn.metrics import accuracy_score\n",
    "\n",
    "print(\"Accuracy: %.2f\" %accuracy_score(Y_test, Y_pred_percep))"
   ]
  },
  {
   "cell_type": "markdown",
   "metadata": {},
   "source": [
    "## Main disadvantage with Perceptron Model was it never converges if data is not linearly separable"
   ]
  },
  {
   "cell_type": "code",
   "execution_count": null,
   "metadata": {},
   "outputs": [],
   "source": []
  }
 ],
 "metadata": {
  "kernelspec": {
   "display_name": "Python 3",
   "language": "python",
   "name": "python3"
  },
  "language_info": {
   "codemirror_mode": {
    "name": "ipython",
    "version": 3
   },
   "file_extension": ".py",
   "mimetype": "text/x-python",
   "name": "python",
   "nbconvert_exporter": "python",
   "pygments_lexer": "ipython3",
   "version": "3.6.8"
  }
 },
 "nbformat": 4,
 "nbformat_minor": 2
}
